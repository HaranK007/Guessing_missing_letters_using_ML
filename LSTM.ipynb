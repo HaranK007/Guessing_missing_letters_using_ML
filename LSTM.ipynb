{
 "cells": [
  {
   "cell_type": "code",
   "execution_count": null,
   "id": "db7b382b",
   "metadata": {},
   "outputs": [],
   "source": [
    "import tensorflow as tf\n",
    "import numpy as np"
   ]
  },
  {
   "cell_type": "code",
   "execution_count": null,
   "id": "62ca8544",
   "metadata": {},
   "outputs": [],
   "source": [
    "file_path = 'words.txt'  \n",
    "with open(file_path, 'r') as file:\n",
    "    words_list = file.read().splitlines()\n",
    "preprocessed_words = [word.lower() for word in words_list]"
   ]
  },
  {
   "cell_type": "code",
   "execution_count": null,
   "id": "fcb61921",
   "metadata": {},
   "outputs": [],
   "source": [
    "alphabet = 'abcdefghijklmnopqrstuvwxyz'"
   ]
  },
  {
   "cell_type": "code",
   "execution_count": null,
   "id": "2da5576a",
   "metadata": {},
   "outputs": [],
   "source": [
    "input_output_pairs = []\n",
    "for word in preprocessed_words:\n",
    "    for letter in alphabet:\n",
    "        if letter in word:\n",
    "            input_word = ''.join(['_' if char == letter else char for char in word])\n",
    "            target_letter = letter\n",
    "            input_output_pairs.append((input_word, target_letter))\n"
   ]
  },
  {
   "cell_type": "code",
   "execution_count": null,
   "id": "97715a1b",
   "metadata": {},
   "outputs": [],
   "source": [
    "characters = sorted(set(''.join([pair[0] for pair in input_output_pairs])))\n",
    "char_to_idx = {char: idx for idx, char in enumerate(characters)}"
   ]
  },
  {
   "cell_type": "code",
   "execution_count": null,
   "id": "52481ff0",
   "metadata": {},
   "outputs": [],
   "source": [
    "num_input_output_pairs = []\n",
    "for input_word, target_letter in input_output_pairs:\n",
    "    input_seq = [char_to_idx[char] for char in input_word]\n",
    "    target_idx = char_to_idx[target_letter]\n",
    "    num_input_output_pairs.append((input_seq, target_idx))"
   ]
  },
  {
   "cell_type": "code",
   "execution_count": null,
   "id": "a6e3caa1",
   "metadata": {},
   "outputs": [],
   "source": [
    "inputs = [pair[0] for pair in num_input_output_pairs]\n",
    "targets = [pair[1] for pair in num_input_output_pairs]"
   ]
  },
  {
   "cell_type": "code",
   "execution_count": null,
   "id": "9eeb0357",
   "metadata": {},
   "outputs": [],
   "source": [
    "padded_inputs = tf.keras.preprocessing.sequence.pad_sequences(inputs, padding='post')\n",
    "targets = np.array(targets)"
   ]
  },
  {
   "cell_type": "code",
   "execution_count": null,
   "id": "6ee5a1b9",
   "metadata": {},
   "outputs": [],
   "source": [
    "# model\n",
    "model = tf.keras.Sequential([\n",
    "    tf.keras.layers.Embedding(27, 16, input_length=padded_inputs.shape[1]),\n",
    "    tf.keras.layers.LSTM(32),\n",
    "    tf.keras.layers.Dense(27, activation='softmax')\n",
    "])"
   ]
  },
  {
   "cell_type": "code",
   "execution_count": null,
   "id": "c1baa995",
   "metadata": {},
   "outputs": [],
   "source": [
    "model.compile(loss='sparse_categorical_crossentropy', optimizer='adam', metrics=['accuracy'])"
   ]
  },
  {
   "cell_type": "code",
   "execution_count": null,
   "id": "b4578535",
   "metadata": {},
   "outputs": [],
   "source": [
    "model.fit(padded_inputs, targets, epochs=10, batch_size=32)"
   ]
  },
  {
   "cell_type": "code",
   "execution_count": null,
   "id": "6b8376e7",
   "metadata": {},
   "outputs": [],
   "source": [
    "# Save the model\n",
    "model.save('lstm_model1.keras')"
   ]
  },
  {
   "cell_type": "code",
   "execution_count": null,
   "id": "9448ad37",
   "metadata": {},
   "outputs": [],
   "source": []
  }
 ],
 "metadata": {
  "kernelspec": {
   "display_name": "Python 3 (ipykernel)",
   "language": "python",
   "name": "python3"
  },
  "language_info": {
   "codemirror_mode": {
    "name": "ipython",
    "version": 3
   },
   "file_extension": ".py",
   "mimetype": "text/x-python",
   "name": "python",
   "nbconvert_exporter": "python",
   "pygments_lexer": "ipython3",
   "version": "3.10.9"
  }
 },
 "nbformat": 4,
 "nbformat_minor": 5
}
