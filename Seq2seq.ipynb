{
 "cells": [
  {
   "cell_type": "code",
   "execution_count": null,
   "id": "ab3acde6",
   "metadata": {},
   "outputs": [],
   "source": [
    "import numpy as np\n",
    "from keras.models import Model\n",
    "from keras.layers import Input, LSTM, Dense, Embedding\n",
    "from keras.preprocessing.sequence import pad_sequences\n",
    "from keras.utils import to_categorical\n",
    "from keras.models import load_model"
   ]
  },
  {
   "cell_type": "code",
   "execution_count": null,
   "id": "554b9776",
   "metadata": {},
   "outputs": [],
   "source": [
    "file_path = 'words.txt'\n",
    "with open(file_path, 'r') as file:\n",
    "    words_list = file.read().splitlines()\n",
    "preprocessed_words = [word.lower() for word in words_list]"
   ]
  },
  {
   "cell_type": "code",
   "execution_count": null,
   "id": "74839b99",
   "metadata": {},
   "outputs": [],
   "source": [
    "input_output_pairs = []"
   ]
  },
  {
   "cell_type": "code",
   "execution_count": null,
   "id": "02e6e62c",
   "metadata": {},
   "outputs": [],
   "source": [
    "alphabet = 'abcdefghijklmnopqrstuvwxyz'"
   ]
  },
  {
   "cell_type": "code",
   "execution_count": null,
   "id": "faa67956",
   "metadata": {},
   "outputs": [],
   "source": [
    "# Create input-output pairs\n",
    "input_output_pairs = []\n",
    "for word in preprocessed_words:\n",
    "    for letter in alphabet:\n",
    "        if letter in word:\n",
    "            input_word = ''.join(['_' if char == letter else char for char in word])\n",
    "            target_letter = letter\n",
    "            input_output_pairs.append((input_word, target_letter))"
   ]
  },
  {
   "cell_type": "code",
   "execution_count": null,
   "id": "f3fd2345",
   "metadata": {},
   "outputs": [],
   "source": [
    "for word in preprocessed_words:\n",
    "    for letter1 in alphabet:\n",
    "        for letter2 in alphabet:\n",
    "            if letter1 != letter2 and letter1 in word and letter2 in word:\n",
    "                input_word = ''.join(['_' if (char == letter1 or char == letter2) else char for char in word])\n",
    "                target_letter1 = letter1\n",
    "                target_letter2 = letter2\n",
    "                input_output_pairs.append((input_word, target_letter1))\n",
    "                input_output_pairs.append((input_word, target_letter2))"
   ]
  },
  {
   "cell_type": "code",
   "execution_count": null,
   "id": "374111fb",
   "metadata": {},
   "outputs": [],
   "source": [
    "for word in preprocessed_words:\n",
    "    for letter1 in alphabet:\n",
    "        for letter2 in alphabet:\n",
    "            for letter3 in alphabet:\n",
    "                if letter1 != letter2 and letter1 != letter3 and letter2 != letter3 and letter1 in word and letter2 in word and letter3 in word:\n",
    "                    input_word = ''.join(['_' if (char == letter1 and ) else char for char in word])\n",
    "                    target_letter1 = letter1\n",
    "                    target_letter2 = letter2\n",
    "                    target_letter3 = letter3\n",
    "                    input_output_pairs.append((input_word, target_letter1))\n",
    "                    input_output_pairs.append((input_word, target_letter2))\n",
    "                    input_output_pairs.append((input_word, target_letter3))"
   ]
  },
  {
   "cell_type": "code",
   "execution_count": null,
   "id": "982b7a7c",
   "metadata": {},
   "outputs": [],
   "source": [
    "# # Create input-output pairs\n",
    "# \n",
    "# for word in preprocessed_words:\n",
    "#     for i in range(len(word)):\n",
    "#         input_word = word[:i] + '_' + word[i+1:]  # Replace the ith character with '_'\n",
    "#         target_letter = word[i]  # The missing letter is the ith character\n",
    "#         input_output_pairs.append((input_word, target_letter))"
   ]
  },
  {
   "cell_type": "code",
   "execution_count": null,
   "id": "35a8feb4",
   "metadata": {},
   "outputs": [],
   "source": [
    "# for word in preprocessed_words:\n",
    "#     for i in range(len(word)-1):\n",
    "#         input_word = word[:i] + '_' + '_' + word[i+2:]  # Replace the ith character with '_'\n",
    "#         target_letter = word[i]\n",
    "#         target_letter2 = word[i+1]# The missing letter is the ith character\n",
    "#         input_output_pairs.append((input_word, target_letter))\n",
    "#         input_output_pairs.append((input_word, target_letter2))"
   ]
  },
  {
   "cell_type": "code",
   "execution_count": null,
   "id": "b80669a6",
   "metadata": {},
   "outputs": [],
   "source": [
    "# for word in preprocessed_words:\n",
    "#     for i in range(len(word)-2):\n",
    "#         input_word = word[:i] + '_' + '_' + '_' + word[i+3:]  # Replace the ith character with '_'\n",
    "#         target_letter = word[i]\n",
    "#         target_letter2 = word[i+1]# The missing letter is the ith character\n",
    "#         target_letter3 = word[i+2]\n",
    "#         input_output_pairs.append((input_word, target_letter))\n",
    "#         input_output_pairs.append((input_word, target_letter2))\n",
    "#         input_output_pairs.append((input_word, target_letter3))"
   ]
  },
  {
   "cell_type": "code",
   "execution_count": null,
   "id": "310d7f46",
   "metadata": {},
   "outputs": [],
   "source": [
    "# # Create input-output pairs with len >=4\n",
    "# input_output_pairs = []\n",
    "# for word in preprocessed_words:\n",
    "#     if len(word) >= 4:\n",
    "#         for i in range(len(word)-3):\n",
    "#             input_word = word[:i] + '_' + '_' + '_' + '_' + word[i+4:]  # Replace the ith character with '_'\n",
    "#             target_letter = word[i]  # The missing letter is the ith character\n",
    "#             target_letter2 = word[i+1]\n",
    "#             target_letter3 = word[i+2]\n",
    "#             target_letter4 = word[i+3]\n",
    "#             input_output_pairs.append((input_word, target_letter))\n",
    "#             input_output_pairs.append((input_word, target_letter2))\n",
    "#             input_output_pairs.append((input_word, target_letter3))\n",
    "#             input_output_pairs.append((input_word, target_letter4))"
   ]
  },
  {
   "cell_type": "code",
   "execution_count": null,
   "id": "81f19065",
   "metadata": {},
   "outputs": [],
   "source": [
    "characters = sorted(set(''.join([pair[0] for pair in input_output_pairs])))\n",
    "char_to_int = {char: idx for idx, char in enumerate(characters)}\n",
    "index_to_char = {idx: char for char, idx in char_to_int.items()}"
   ]
  },
  {
   "cell_type": "code",
   "execution_count": null,
   "id": "2dc9abbf",
   "metadata": {},
   "outputs": [],
   "source": [
    "#vectorizing and padding\n",
    "input_sequences = []\n",
    "target_sequences = []\n",
    "for input_word, target_letter in input_output_pairs:\n",
    "    input_sequence = [char_to_int[char] for char in input_word]\n",
    "    target_sequence = [char_to_int[target_letter]]\n",
    "    input_sequences.append(input_sequence)\n",
    "    target_sequences.append(target_sequence)\n",
    "\n",
    "input_sequences = np.array(input_sequences)\n",
    "target_sequences = np.array(target_sequences)\n",
    "\n",
    "input_sequences = pad_sequences(input_sequences,maxlen=len(characters), padding='post')\n",
    "input_sequences = np.reshape(input_sequences, (input_sequences.shape[0], 1, input_sequences.shape[1]))"
   ]
  },
  {
   "cell_type": "code",
   "execution_count": null,
   "id": "0f3f5589",
   "metadata": {},
   "outputs": [],
   "source": [
    "#encoder\n",
    "encoder_inputs = Input(shape=(None, len(characters)))\n",
    "encoder_lstm = LSTM(128, return_state=True)\n",
    "_, state_h, state_c = encoder_lstm(encoder_inputs)\n",
    "encoder_states = [state_h, state_c]"
   ]
  },
  {
   "cell_type": "code",
   "execution_count": null,
   "id": "ddaa8808",
   "metadata": {},
   "outputs": [],
   "source": [
    "#decoder\n",
    "decoder_inputs = Input(shape=(None, len(characters)))\n",
    "decoder_lstm = LSTM(128, return_sequences=True, return_state=True)\n",
    "decoder_outputs, _, _ = decoder_lstm(decoder_inputs, initial_state=encoder_states)\n",
    "decoder_dense = Dense(27, activation='softmax')\n",
    "decoder_outputs = decoder_dense(decoder_outputs)"
   ]
  },
  {
   "cell_type": "code",
   "execution_count": null,
   "id": "09a08c6b",
   "metadata": {},
   "outputs": [],
   "source": [
    "model = Model([encoder_inputs, decoder_inputs], decoder_outputs)\n",
    "model.compile(optimizer='adam', loss='sparse_categorical_crossentropy', metrics=['accuracy'])"
   ]
  },
  {
   "cell_type": "code",
   "execution_count": null,
   "id": "d9351924",
   "metadata": {},
   "outputs": [],
   "source": [
    "# Train the model\n",
    "model.fit([input_sequences,input_sequences], target_sequences, batch_size=16, epochs=1, verbose=1)"
   ]
  },
  {
   "cell_type": "code",
   "execution_count": null,
   "id": "8a8525d6",
   "metadata": {},
   "outputs": [],
   "source": [
    "# Save the model \n",
    "model.save('model_LSTM_s2s_10.keras')"
   ]
  }
 ],
 "metadata": {
  "kernelspec": {
   "display_name": "Python 3 (ipykernel)",
   "language": "python",
   "name": "python3"
  },
  "language_info": {
   "codemirror_mode": {
    "name": "ipython",
    "version": 3
   },
   "file_extension": ".py",
   "mimetype": "text/x-python",
   "name": "python",
   "nbconvert_exporter": "python",
   "pygments_lexer": "ipython3",
   "version": "3.10.9"
  }
 },
 "nbformat": 4,
 "nbformat_minor": 5
}
